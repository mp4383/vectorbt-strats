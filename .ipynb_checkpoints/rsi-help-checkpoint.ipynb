{
 "cells": [
  {
   "cell_type": "code",
   "execution_count": null,
   "id": "afe8ae42-957a-4667-8966-dad655ec8d8b",
   "metadata": {},
   "outputs": [],
   "source": [
    "from vectorbtpro import *\n",
    "\n",
    "start_string = '2024-12-13 UTC'\n",
    "end_string = '2025-01-13 UTC'\n",
    "symbol_array = ['SOLUSDT']\n",
    "timeframe_string = '1m'\n",
    "\n",
    "vbt.BinanceData.set_custom_settings()\n",
    "data = vbt.BinanceData.pull(\n",
    "    symbol_array, \n",
    "    start=start_string,\n",
    "    end=end_string,\n",
    "    timeframe=timeframe_string,\n",
    "    client_config=dict(tld=\"us\")\n",
    ")"
   ]
  },
  {
   "cell_type": "code",
   "execution_count": null,
   "id": "6e9a682d-043a-45de-946f-20b1244cf0cd",
   "metadata": {},
   "outputs": [],
   "source": [
    "leverage = 1\n",
    "take_profit = 0.02\n",
    "stop_loss = 0.01   # 3.3% stop loss\n",
    "rsi_threshold = 75  # RSI overbought threshold\n",
    "rsi_differential = -5\n",
    "volume_threshold = 2.5  # Minimum volume for valid entry\n",
    "exit_types = [\"SL\", \"TP\"]\n",
    "open_price = data.get('Open')\n",
    "close_price = data.get('Close')\n",
    "volume_data = data.get('Volume')"
   ]
  },
  {
   "cell_type": "code",
   "execution_count": null,
   "id": "3aa99013-bfd8-4bbe-98c2-34a7f09bebc4",
   "metadata": {},
   "outputs": [],
   "source": [
    "rsi = vbt.RSI.run(close_price)"
   ]
  },
  {
   "cell_type": "code",
   "execution_count": null,
   "id": "2930f755-9709-4d82-b56d-e155b8d50041",
   "metadata": {},
   "outputs": [],
   "source": [
    "rsi_values = rsi.rsi"
   ]
  },
  {
   "cell_type": "code",
   "execution_count": null,
   "id": "de527873-48d7-4bbb-9ba2-d115824e5c20",
   "metadata": {},
   "outputs": [],
   "source": [
    "rsi_diff = rsi_values.diff()\n",
    "rsi_diff"
   ]
  },
  {
   "cell_type": "code",
   "execution_count": null,
   "id": "3a9c3f09-4cc1-4bb6-9df6-4d9dd0140b1d",
   "metadata": {},
   "outputs": [],
   "source": [
    "entries = (rsi.rsi.shift(1) > rsi_threshold) & (rsi.rsi < 70) & (rsi_diff <= rsi_differential) # & (volume_data > volume_threshold)"
   ]
  },
  {
   "cell_type": "code",
   "execution_count": null,
   "id": "696c0fed-0f4b-403b-9d45-89e738633301",
   "metadata": {},
   "outputs": [],
   "source": [
    "sl_ohlcstx = vbt.OHLCSTX.run(\n",
    "    entries,  \n",
    "    entry_price=entries,  \n",
    "    open=data.get(\"Open\"), \n",
    "    high=data.get(\"High\"), \n",
    "    low=data.get(\"Low\"), \n",
    "    close=data.get(\"Close\"), \n",
    "    sl_stop=stop_loss,  \n",
    "    stop_type=None  \n",
    ")\n",
    "sl_exits = sl_ohlcstx.exits.copy()  \n",
    "sl_price = sl_ohlcstx.close.copy()  \n",
    "sl_price[sl_exits] = sl_ohlcstx.stop_price\n",
    "del sl_ohlcstx "
   ]
  },
  {
   "cell_type": "code",
   "execution_count": null,
   "id": "9f07a392-b3b3-4981-bdbc-9c50f6f97cf1",
   "metadata": {},
   "outputs": [],
   "source": [
    "tp_ohlcstx = vbt.OHLCSTX.run(\n",
    "    entries, \n",
    "    entry_price=entries, \n",
    "    open=data.get(\"Open\"), \n",
    "    high=data.get(\"High\"), \n",
    "    low=data.get(\"Low\"), \n",
    "    close=data.get(\"Close\"), \n",
    "    tp_stop=take_profit,\n",
    "    stop_type=None\n",
    ")\n",
    "tp_exits = tp_ohlcstx.exits.copy()\n",
    "tp_price = tp_ohlcstx.close.copy()\n",
    "tp_price[tp_exits] = tp_ohlcstx.stop_price\n",
    "del tp_ohlcstx\n"
   ]
  },
  {
   "cell_type": "code",
   "execution_count": null,
   "id": "7c612215-fad1-471e-ba8e-fd044de4039e",
   "metadata": {},
   "outputs": [],
   "source": [
    "# Example sl_exits and tp_exits (original DataFrames)\n",
    "# Ensure they are already flattened\n",
    "sl_exits_flat = sl_exits.droplevel(level=1, axis=1)  # Flatten if multi-level\n",
    "tp_exits_flat = tp_exits.droplevel(level=1, axis=1)  # Flatten if multi-level\n",
    "\n",
    "# Combine SL and TP into a single boolean Series\n",
    "sl_tp_exits = (sl_exits_flat.any(axis=1) | tp_exits_flat.any(axis=1))\n",
    "\n",
    "#print(sl_tp_exits)  # Boolean Series\n",
    "clean_entries, clean_exits = entries.vbt.signals.clean(sl_tp_exits)\n",
    "\n",
    "clean_entries.vbt.signals.total() "
   ]
  },
  {
   "cell_type": "code",
   "execution_count": null,
   "id": "00a4010c-3025-4df0-ad19-be6fa3e86dfb",
   "metadata": {},
   "outputs": [],
   "source": [
    "portfolio = vbt.Portfolio.from_signals(\n",
    "    close=close_price,\n",
    "    entries=clean_entries,\n",
    "    exits=clean_exits,  # Exits are handled by stop-loss and take-profit\n",
    "    size=np.inf,              # Fully allocate\n",
    "    init_cash=1000,           # Starting cash\n",
    "    # fees=0.001,               # Transaction fees\n",
    "    leverage=leverage,\n",
    "    direction=\"shortonly\"  # Short positions only\n",
    ")\n",
    "\n",
    "\n",
    "# Visualize Portfolio\n",
    "#portfolio.plot().show()"
   ]
  },
  {
   "cell_type": "code",
   "execution_count": null,
   "id": "63e83683-5b6c-4d49-8222-2f58f9afff11",
   "metadata": {},
   "outputs": [],
   "source": [
    "# Analyze Portfolio\n",
    "portfolio.stats()"
   ]
  },
  {
   "cell_type": "code",
   "execution_count": null,
   "id": "bb806741-e3c4-4837-88f9-4d83d682b45b",
   "metadata": {},
   "outputs": [],
   "source": [
    "portfolio.plot().show()"
   ]
  },
  {
   "cell_type": "code",
   "execution_count": null,
   "id": "7c3ae4ac-3fca-4473-a59c-ad8b48b4f7e6",
   "metadata": {},
   "outputs": [],
   "source": []
  }
 ],
 "metadata": {
  "kernelspec": {
   "display_name": "Python (vectorbtpro)",
   "language": "python",
   "name": "vectorvbpro"
  },
  "language_info": {
   "codemirror_mode": {
    "name": "ipython",
    "version": 3
   },
   "file_extension": ".py",
   "mimetype": "text/x-python",
   "name": "python",
   "nbconvert_exporter": "python",
   "pygments_lexer": "ipython3",
   "version": "3.11.11"
  }
 },
 "nbformat": 4,
 "nbformat_minor": 5
}
